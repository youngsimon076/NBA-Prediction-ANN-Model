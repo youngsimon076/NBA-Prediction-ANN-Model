{
  "nbformat": 4,
  "nbformat_minor": 0,
  "metadata": {
    "colab": {
      "provenance": []
    },
    "kernelspec": {
      "name": "python3",
      "display_name": "Python 3"
    },
    "language_info": {
      "name": "python"
    }
  },
  "cells": [
    {
      "cell_type": "code",
      "source": [
        "pip install sklearn.externals"
      ],
      "metadata": {
        "colab": {
          "base_uri": "https://localhost:8080/"
        },
        "id": "jq_8Hbkmtp9E",
        "outputId": "b75733a6-6a3f-4377-9ffb-341da75674f4"
      },
      "execution_count": 96,
      "outputs": [
        {
          "output_type": "stream",
          "name": "stdout",
          "text": [
            "\u001b[31mERROR: Could not find a version that satisfies the requirement sklearn.externals (from versions: none)\u001b[0m\u001b[31m\n",
            "\u001b[0m\u001b[31mERROR: No matching distribution found for sklearn.externals\u001b[0m\u001b[31m\n",
            "\u001b[0m"
          ]
        }
      ]
    },
    {
      "cell_type": "code",
      "execution_count": 8,
      "metadata": {
        "colab": {
          "base_uri": "https://localhost:8080/"
        },
        "id": "RXt42TxINFUi",
        "outputId": "0dd264b1-fb6a-4cb4-ade5-d16b8e2f0e0e"
      },
      "outputs": [
        {
          "output_type": "stream",
          "name": "stdout",
          "text": [
            "Best Random Forest Model Accuracy: 0.6863636363636364\n",
            "Enter the start index (0 to 229): 90\n",
            "Enter the end index (90 to 229): 110\n",
            "Predictions for rows 90 to 110:\n",
            "Brooklyn Nets at Orlando Magic: Visitor wins\n",
            "Chicago Bulls at Indiana Pacers: Visitor wins\n",
            "Denver Nuggets at Miami Heat: Home wins\n",
            "Charlotte Hornets at Memphis Grizzlies: Home wins\n",
            "Cleveland Cavaliers at New Orleans Pelicans: Home wins\n",
            "Golden State Warriors at Dallas Mavericks: Home wins\n",
            "Atlanta Hawks at Portland Trail Blazers: Home wins\n",
            "Los Angeles Lakers at Sacramento Kings: Home wins\n",
            "Phoenix Suns at Boston Celtics: Visitor wins\n",
            "Los Angeles Clippers at Chicago Bulls: Home wins\n",
            "Washington Wizards at Houston Rockets: Visitor wins\n",
            "Philadelphia 76ers at Milwaukee Bucks: Visitor wins\n",
            "Dallas Mavericks at Oklahoma City Thunder: Visitor wins\n",
            "New York Knicks at Portland Trail Blazers: Home wins\n",
            "Phoenix Suns at Charlotte Hornets: Home wins\n",
            "Miami Heat at Detroit Pistons: Home wins\n",
            "Orlando Magic at Toronto Raptors: Home wins\n",
            "Los Angeles Clippers at New Orleans Pelicans: Home wins\n",
            "Denver Nuggets at San Antonio Spurs: Home wins\n",
            "Atlanta Hawks at Utah Jazz: Visitor wins\n",
            "Enter the start index (0 to 114): 0\n",
            "Enter the end index (0 to 114): 5\n",
            "Predictions for rows 0 to 5:\n",
            "Boston Celtics at Charlotte Hornets: Home wins\n",
            "Memphis Grizzlies at Detroit Pistons: Visitor wins\n",
            "Brooklyn Nets at Indiana Pacers: Visitor wins\n",
            "Portland Trail Blazers at Orlando Magic: Visitor wins\n",
            "Atlanta Hawks at Chicago Bulls: Visitor wins\n"
          ]
        }
      ],
      "source": [
        "import requests\n",
        "from bs4 import BeautifulSoup\n",
        "import pandas as pd\n",
        "from sklearn.ensemble import RandomForestClassifier\n",
        "from sklearn.model_selection import train_test_split, GridSearchCV\n",
        "from imblearn.over_sampling import SMOTE\n",
        "\n",
        "# scrapes team data from the br url\n",
        "def scrape_team_data(url):\n",
        "    page = requests.get(url)\n",
        "    soup = BeautifulSoup(page.content, 'html.parser')\n",
        "    table = soup.find('table', {'id': 'ratings'})\n",
        "    team_data = pd.read_html(str(table))[0]\n",
        "    team_data.columns = team_data.columns.droplevel()\n",
        "    team_data = team_data[['Team', 'W', 'L', 'ORtg', 'DRtg']]\n",
        "    team_data.set_index('Team', inplace=True)\n",
        "    return team_data\n",
        "\n",
        "# scrapes game data from the br url\n",
        "def scrape_game_data(url):\n",
        "    page = requests.get(url)\n",
        "    soup = BeautifulSoup(page.content, 'html.parser')\n",
        "    table = soup.find('table', {'id': 'schedule'})\n",
        "    game_data = pd.read_html(str(table))[0]\n",
        "    return game_data\n",
        "\n",
        "# preprocesses the game data\n",
        "def preprocess_game_data(game_data, team_data):\n",
        "    game_data = game_data[['Visitor/Neutral', 'Home/Neutral', 'PTS', 'PTS.1']]\n",
        "    game_data.columns = ['Visitor', 'Home', 'Visitor_PTS', 'Home_PTS']\n",
        "\n",
        "    # combine data types\n",
        "    game_data = game_data.merge(team_data, how='left', left_on='Visitor', right_index=True)\n",
        "    game_data = game_data.merge(team_data, how='left', left_on='Home', right_index=True, suffixes=('_visitor', '_home'))\n",
        "\n",
        "    # bonus features\n",
        "    game_data['Win_Streak_visitor'] = game_data['W_visitor'].rolling(window=5, min_periods=1).sum()\n",
        "    game_data['Win_Streak_home'] = game_data['W_home'].rolling(window=5, min_periods=1).sum()\n",
        "    game_data['Home_Win_Ratio'] = game_data['W_home'] / (game_data['W_home'] + game_data['L_home'])\n",
        "    game_data['Visitor_Win_Ratio'] = game_data['W_visitor'] / (game_data['W_visitor'] + game_data['L_visitor'])\n",
        "\n",
        "    return game_data\n",
        "\n",
        "# call function to scrape team data\n",
        "team_url = \"https://www.basketball-reference.com/leagues/NBA_2024_ratings.html\"\n",
        "team_data = scrape_team_data(team_url)\n",
        "\n",
        "# call function to scrape game data\n",
        "january_url = \"https://www.basketball-reference.com/leagues/NBA_2024_games-january.html\"\n",
        "february_url = \"https://www.basketball-reference.com/leagues/NBA_2024_games-february.html\"\n",
        "march_url = \"https://www.basketball-reference.com/leagues/NBA_2024_games-march.html\"\n",
        "april_url = \"https://www.basketball-reference.com/leagues/NBA_2024_games-april.html\"\n",
        "\n",
        "january_games = scrape_game_data(january_url)\n",
        "february_games = scrape_game_data(february_url)\n",
        "march_games = scrape_game_data(march_url)\n",
        "april_games = scrape_game_data(april_url)\n",
        "\n",
        "# call function to preprocess game data\n",
        "january_data = preprocess_game_data(january_games, team_data)\n",
        "february_data = preprocess_game_data(february_games, team_data)\n",
        "march_data = preprocess_game_data(march_games, team_data)\n",
        "april_data = preprocess_game_data(april_games, team_data)\n",
        "\n",
        "# combine jan/feb data\n",
        "training_data = pd.concat([january_data, february_data])\n",
        "\n",
        "# define features(what the model uses to predict) and target(what model predicts)\n",
        "X_train = training_data[['W_visitor', 'L_visitor', 'ORtg_visitor', 'DRtg_visitor', 'W_home', 'L_home', 'ORtg_home', 'DRtg_home',\n",
        "                         'Win_Streak_visitor', 'Win_Streak_home', 'Home_Win_Ratio', 'Visitor_Win_Ratio']]\n",
        "y_train = (training_data['Visitor_PTS'] < training_data['Home_PTS']).astype(int)\n",
        "\n",
        "# oversample using smote(makes data more balanced)\n",
        "smote = SMOTE(random_state=42)\n",
        "X_train_resampled, y_train_resampled = smote.fit_resample(X_train, y_train)\n",
        "\n",
        "# rcf(creates/trains model)\n",
        "rf_classifier = RandomForestClassifier(random_state=42)\n",
        "\n",
        "# makes grid for hyperparameter tuning\n",
        "param_grid = {\n",
        "    'n_estimators': [100, 200, 300],\n",
        "    'max_depth': [10, 20, 30],\n",
        "    'min_samples_split': [2, 5, 10],\n",
        "    'min_samples_leaf': [1, 2, 4]\n",
        "}\n",
        "\n",
        "# uses the grid to hyperparameter tune, helps accuracy by finding the optimal parameters\n",
        "grid_search = GridSearchCV(rf_classifier, param_grid, cv=5, scoring='accuracy')\n",
        "grid_search.fit(X_train_resampled, y_train_resampled)\n",
        "\n",
        "# takes the model with the best accuracy from hyperparameter tuning\n",
        "best_rf_classifier = grid_search.best_estimator_\n",
        "\n",
        "# displays the accuracy of said model\n",
        "best_rf_accuracy = grid_search.best_score_\n",
        "\n",
        "print(\"Best Random Forest Model Accuracy:\", best_rf_accuracy)\n",
        "\n",
        "# predict upcoming games\n",
        "predictions = best_rf_classifier.predict(X_predictions)\n",
        "\n",
        "# function to print new predictions\n",
        "def print_predictions(game_data, predictions, start_idx, end_idx):\n",
        "    print(f\"Predictions for rows {start_idx} to {end_idx}:\")\n",
        "    for i in range(start_idx, end_idx):\n",
        "        row = game_data.iloc[i]\n",
        "        print(f\"{row['Visitor/Neutral']} at {row['Home/Neutral']}: {'Visitor' if predictions[i] == 1 else 'Home'} wins\")\n",
        "\n",
        "# lets you input the rows from https://www.basketball-reference.com/leagues/NBA_2024_games-march.html to print, so input start and end rows\n",
        "def get_input_range(max_rows):\n",
        "    start_idx = int(input(f\"Enter the start index (0 to {max_rows - 1}): \"))\n",
        "    end_idx = int(input(f\"Enter the end index ({start_idx} to {max_rows - 1}): \"))\n",
        "    return start_idx, end_idx\n",
        "\n",
        "# prints selected rows for march\n",
        "march_start, march_end = get_input_range(len(march_games))\n",
        "print_predictions(march_games, predictions[:len(march_games)], march_start, march_end)\n",
        "\n",
        "# prints selected rows for april\n",
        "april_start, april_end = get_input_range(len(april_games))\n",
        "print_predictions(april_games, predictions[len(march_games):], april_start, april_end)\n"
      ]
    },
    {
      "cell_type": "code",
      "source": [],
      "metadata": {
        "id": "z5WoPMe6iiJz"
      },
      "execution_count": null,
      "outputs": []
    }
  ]
}